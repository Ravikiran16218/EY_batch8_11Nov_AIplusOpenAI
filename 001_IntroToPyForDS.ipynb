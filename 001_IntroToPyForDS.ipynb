{
  "nbformat": 4,
  "nbformat_minor": 0,
  "metadata": {
    "colab": {
      "provenance": [],
      "authorship_tag": "ABX9TyOX9tR9ReB1HwIKCYNILluo",
      "include_colab_link": true
    },
    "kernelspec": {
      "name": "python3",
      "display_name": "Python 3"
    },
    "language_info": {
      "name": "python"
    }
  },
  "cells": [
    {
      "cell_type": "markdown",
      "metadata": {
        "id": "view-in-github",
        "colab_type": "text"
      },
      "source": [
        "<a href=\"https://colab.research.google.com/github/a-forty-two/EY_batch8_11Nov_AIplusOpenAI/blob/main/001_IntroToPyForDS.ipynb\" target=\"_parent\"><img src=\"https://colab.research.google.com/assets/colab-badge.svg\" alt=\"Open In Colab\"/></a>"
      ]
    },
    {
      "cell_type": "code",
      "source": [
        "# list -> [ ]\n",
        "# set -> { }\n",
        "# tuple -> ( )\n",
        "# dictionary -> { }"
      ],
      "metadata": {
        "id": "ogxgn279tk8M"
      },
      "execution_count": 12,
      "outputs": []
    },
    {
      "cell_type": "code",
      "execution_count": 6,
      "metadata": {
        "colab": {
          "base_uri": "https://localhost:8080/"
        },
        "id": "2A1VjdMAp6BX",
        "outputId": "5eb0d9e9-9893-41fb-f321-5ffa3c7e2d4d"
      },
      "outputs": [
        {
          "output_type": "stream",
          "name": "stdout",
          "text": [
            "[1, 2, 3, True, 0.42, 'Blah blah', 45, 0.000999]\n",
            "True\n",
            "0.000999\n",
            "45\n",
            "[1, 2, 3, True, 0.42, 'Blah blah', False, 0]\n"
          ]
        }
      ],
      "source": [
        "# list -> arrays\n",
        "# list is heterogeneous collection\n",
        "mylist = [1,2,3,True, 0.42, 'Blah blah', 45, 9.99e-4]\n",
        "print(mylist)\n",
        "\n",
        "# lists are ORDERED, INDEXED collections\n",
        "# ORDER NEVER CHANGES-> 1,2,Banana will always remain 1,2,Banana\n",
        "# INDEX-> mylist[0], mylist[1] -> here 0 and 1 are index\n",
        "\n",
        "# left to right\n",
        "print(mylist[3])\n",
        "# right to left\n",
        "print(mylist[-1])\n",
        "print(mylist[-2])\n",
        "\n",
        "#mutable -> thier values can change\n",
        "\n",
        "mylist[-1] = 0\n",
        "mylist[-2] = False\n",
        "\n",
        "print(mylist)\n"
      ]
    },
    {
      "cell_type": "code",
      "source": [
        "# tuples\n",
        "\n",
        "# ORDERED, INDEXED but immutable\n",
        "# once created, no changes can be made to tuple! -> READ ONLY\n",
        "\n",
        "mytuple = (1,2,3,6.65,False,'bye')\n",
        "print(mytuple)\n",
        "print(mytuple[0]) # ORDERED and INDEXED\n",
        "print(mytuple[-1])\n"
      ],
      "metadata": {
        "colab": {
          "base_uri": "https://localhost:8080/"
        },
        "id": "NQPgc6swqZEx",
        "outputId": "7eafc2e0-4866-4e2a-eea6-25e59560ed53"
      },
      "execution_count": 9,
      "outputs": [
        {
          "output_type": "stream",
          "name": "stdout",
          "text": [
            "(1, 2, 3, 6.65, False, 'bye')\n",
            "1\n",
            "bye\n"
          ]
        }
      ]
    },
    {
      "cell_type": "code",
      "source": [
        "# modification SHOULD NOT WORK\n",
        "mytuple[0] = 'hello world' # throw an error"
      ],
      "metadata": {
        "colab": {
          "base_uri": "https://localhost:8080/",
          "height": 162
        },
        "id": "wXdqXryusCKB",
        "outputId": "bdeb7dcf-779c-48e2-ef22-af9db4b492b5"
      },
      "execution_count": 8,
      "outputs": [
        {
          "output_type": "error",
          "ename": "TypeError",
          "evalue": "'tuple' object does not support item assignment",
          "traceback": [
            "\u001b[0;31m---------------------------------------------------------------------------\u001b[0m",
            "\u001b[0;31mTypeError\u001b[0m                                 Traceback (most recent call last)",
            "\u001b[0;32m<ipython-input-8-ab896052c860>\u001b[0m in \u001b[0;36m<cell line: 2>\u001b[0;34m()\u001b[0m\n\u001b[1;32m      1\u001b[0m \u001b[0;31m# modification SHOULD NOT WORK\u001b[0m\u001b[0;34m\u001b[0m\u001b[0;34m\u001b[0m\u001b[0m\n\u001b[0;32m----> 2\u001b[0;31m \u001b[0mmytuple\u001b[0m\u001b[0;34m[\u001b[0m\u001b[0;36m0\u001b[0m\u001b[0;34m]\u001b[0m \u001b[0;34m=\u001b[0m \u001b[0;34m'hello world'\u001b[0m \u001b[0;31m# throw an error\u001b[0m\u001b[0;34m\u001b[0m\u001b[0;34m\u001b[0m\u001b[0m\n\u001b[0m",
            "\u001b[0;31mTypeError\u001b[0m: 'tuple' object does not support item assignment"
          ]
        }
      ]
    },
    {
      "cell_type": "code",
      "source": [
        "# sets\n",
        "\n",
        "# UNORDERED, UNINDEXED, NO DUPLICATES\n",
        "\n",
        "myset = { 'apple', 42, 'apple', 42, -1 }\n",
        "print(myset)\n",
        "\n",
        "# dictionary"
      ],
      "metadata": {
        "colab": {
          "base_uri": "https://localhost:8080/"
        },
        "id": "jsHIXZppsBWI",
        "outputId": "1a0870e7-67f0-43f4-bf7d-47cf6300d746"
      },
      "execution_count": 10,
      "outputs": [
        {
          "output_type": "stream",
          "name": "stdout",
          "text": [
            "{42, 'apple', -1}\n"
          ]
        }
      ]
    },
    {
      "cell_type": "code",
      "source": [
        "#UNINDEXED\n",
        "myset[0] # ERROR -> 0 as an index doesn't exist in this set!"
      ],
      "metadata": {
        "colab": {
          "base_uri": "https://localhost:8080/",
          "height": 162
        },
        "id": "ODwfmQgctLR-",
        "outputId": "7611b16e-5785-4f5b-8476-316de970e215"
      },
      "execution_count": 11,
      "outputs": [
        {
          "output_type": "error",
          "ename": "TypeError",
          "evalue": "'set' object is not subscriptable",
          "traceback": [
            "\u001b[0;31m---------------------------------------------------------------------------\u001b[0m",
            "\u001b[0;31mTypeError\u001b[0m                                 Traceback (most recent call last)",
            "\u001b[0;32m<ipython-input-11-7220540b541b>\u001b[0m in \u001b[0;36m<cell line: 2>\u001b[0;34m()\u001b[0m\n\u001b[1;32m      1\u001b[0m \u001b[0;31m#UNINDEXED\u001b[0m\u001b[0;34m\u001b[0m\u001b[0;34m\u001b[0m\u001b[0m\n\u001b[0;32m----> 2\u001b[0;31m \u001b[0mmyset\u001b[0m\u001b[0;34m[\u001b[0m\u001b[0;36m0\u001b[0m\u001b[0;34m]\u001b[0m \u001b[0;31m# ERROR -> 0 as an index doesn't exist in this set!\u001b[0m\u001b[0;34m\u001b[0m\u001b[0;34m\u001b[0m\u001b[0m\n\u001b[0m",
            "\u001b[0;31mTypeError\u001b[0m: 'set' object is not subscriptable"
          ]
        }
      ]
    },
    {
      "cell_type": "code",
      "source": [
        "# dictionary -> SET with INDEXES\n",
        "# word with meaning -> keys--- map to ----> values\n",
        "# UNORDERED but INDEXED\n",
        "\n",
        "mydct = { 'name' : 'Pikachu',\n",
        "         'age' : 42,\n",
        "          False : 'Hello world',\n",
        "          101: \"pottasium\"}"
      ],
      "metadata": {
        "id": "bzfjHcAztbma"
      },
      "execution_count": 15,
      "outputs": []
    },
    {
      "cell_type": "code",
      "source": [
        "print(mydct)"
      ],
      "metadata": {
        "colab": {
          "base_uri": "https://localhost:8080/"
        },
        "id": "mbjHU3Flue16",
        "outputId": "2315bab9-7fad-4137-fd52-f87d4d7de90d"
      },
      "execution_count": 16,
      "outputs": [
        {
          "output_type": "stream",
          "name": "stdout",
          "text": [
            "{'name': 'Pikachu', 'age': 42, False: 'Hello world', 101: 'pottasium'}\n"
          ]
        }
      ]
    },
    {
      "cell_type": "code",
      "source": [
        "mydct[False]"
      ],
      "metadata": {
        "colab": {
          "base_uri": "https://localhost:8080/",
          "height": 35
        },
        "id": "OH8Ryo-uuyIE",
        "outputId": "e1277081-473c-4512-89d6-4d3050f8bb88"
      },
      "execution_count": 17,
      "outputs": [
        {
          "output_type": "execute_result",
          "data": {
            "text/plain": [
              "'Hello world'"
            ],
            "application/vnd.google.colaboratory.intrinsic+json": {
              "type": "string"
            }
          },
          "metadata": {},
          "execution_count": 17
        }
      ]
    },
    {
      "cell_type": "code",
      "source": [
        "mydct[0] # 0 and False are same!"
      ],
      "metadata": {
        "colab": {
          "base_uri": "https://localhost:8080/",
          "height": 35
        },
        "id": "n8y-hBX4u7K8",
        "outputId": "b236ac4c-9d80-47f3-da2b-9b3539daa146"
      },
      "execution_count": 18,
      "outputs": [
        {
          "output_type": "execute_result",
          "data": {
            "text/plain": [
              "'Hello world'"
            ],
            "application/vnd.google.colaboratory.intrinsic+json": {
              "type": "string"
            }
          },
          "metadata": {},
          "execution_count": 18
        }
      ]
    },
    {
      "cell_type": "code",
      "source": [
        "mydct[1], mydct[True] # ERROR BECAUSE KEYS WOULDn't EXIST!"
      ],
      "metadata": {
        "colab": {
          "base_uri": "https://localhost:8080/",
          "height": 144
        },
        "id": "Y2J1j31ju_px",
        "outputId": "20bdffe3-8d64-4ed0-f99b-3634cf9f9821"
      },
      "execution_count": 19,
      "outputs": [
        {
          "output_type": "error",
          "ename": "KeyError",
          "evalue": "1",
          "traceback": [
            "\u001b[0;31m---------------------------------------------------------------------------\u001b[0m",
            "\u001b[0;31mKeyError\u001b[0m                                  Traceback (most recent call last)",
            "\u001b[0;32m<ipython-input-19-c25d3347a4c2>\u001b[0m in \u001b[0;36m<cell line: 1>\u001b[0;34m()\u001b[0m\n\u001b[0;32m----> 1\u001b[0;31m \u001b[0mmydct\u001b[0m\u001b[0;34m[\u001b[0m\u001b[0;36m1\u001b[0m\u001b[0;34m]\u001b[0m\u001b[0;34m,\u001b[0m \u001b[0mmydct\u001b[0m\u001b[0;34m[\u001b[0m\u001b[0;32mTrue\u001b[0m\u001b[0;34m]\u001b[0m \u001b[0;31m# ERROR BECAUSE KEYS WOULDn't EXIST!\u001b[0m\u001b[0;34m\u001b[0m\u001b[0;34m\u001b[0m\u001b[0m\n\u001b[0m",
            "\u001b[0;31mKeyError\u001b[0m: 1"
          ]
        }
      ]
    },
    {
      "cell_type": "code",
      "source": [
        "mydct = { 'name' : 'Pikachu',\n",
        "         'age' : 42,\n",
        "          False : 'Hello world',\n",
        "          101: \"pottasium\",\n",
        "          1: 101.11}\n",
        "print(mydct[True])"
      ],
      "metadata": {
        "colab": {
          "base_uri": "https://localhost:8080/"
        },
        "id": "0lmFbsvwvIpr",
        "outputId": "65d4c407-3710-412d-b5ef-596403789263"
      },
      "execution_count": 20,
      "outputs": [
        {
          "output_type": "execute_result",
          "data": {
            "text/plain": [
              "101.11"
            ]
          },
          "metadata": {},
          "execution_count": 20
        }
      ]
    },
    {
      "cell_type": "code",
      "source": [
        "for key, value in mydct.items():\n",
        "  print(str(key) + \" = \" + str(value))"
      ],
      "metadata": {
        "colab": {
          "base_uri": "https://localhost:8080/"
        },
        "id": "rFpel5levU08",
        "outputId": "6345f87d-2c6a-4a19-a398-14288027c44f"
      },
      "execution_count": 22,
      "outputs": [
        {
          "output_type": "stream",
          "name": "stdout",
          "text": [
            "name = Pikachu\n",
            "age = 42\n",
            "False = Hello world\n",
            "101 = pottasium\n",
            "1 = 101.11\n"
          ]
        }
      ]
    },
    {
      "cell_type": "code",
      "source": [],
      "metadata": {
        "id": "hrgv1CAtvnB7"
      },
      "execution_count": null,
      "outputs": []
    }
  ]
}