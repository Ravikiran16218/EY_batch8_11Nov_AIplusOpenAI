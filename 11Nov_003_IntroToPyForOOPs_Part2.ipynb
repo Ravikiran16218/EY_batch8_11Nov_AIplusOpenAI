{
  "nbformat": 4,
  "nbformat_minor": 0,
  "metadata": {
    "colab": {
      "provenance": [],
      "authorship_tag": "ABX9TyM5cfWU2CvfVdcrO6UHJhrP",
      "include_colab_link": true
    },
    "kernelspec": {
      "name": "python3",
      "display_name": "Python 3"
    },
    "language_info": {
      "name": "python"
    }
  },
  "cells": [
    {
      "cell_type": "markdown",
      "metadata": {
        "id": "view-in-github",
        "colab_type": "text"
      },
      "source": [
        "<a href=\"https://colab.research.google.com/github/a-forty-two/EY_batch8_11Nov_AIplusOpenAI/blob/main/11Nov_003_IntroToPyForOOPs_Part2.ipynb\" target=\"_parent\"><img src=\"https://colab.research.google.com/assets/colab-badge.svg\" alt=\"Open In Colab\"/></a>"
      ]
    },
    {
      "cell_type": "code",
      "source": [
        "class car:\n",
        "  def __init__(this, id ): # first argument is always a reference to the class itself; it can carry any variable name (this in our case)\n",
        "    this.registration_id = id\n"
      ],
      "metadata": {
        "id": "1uKZs0UcZhKS"
      },
      "execution_count": 59,
      "outputs": []
    },
    {
      "cell_type": "code",
      "source": [
        "santro = car('y123') # we do not pass the reference to the class while using the function!\n"
      ],
      "metadata": {
        "id": "3p_C6-UWaqYf"
      },
      "execution_count": 61,
      "outputs": []
    },
    {
      "cell_type": "code",
      "source": [
        "class car:\n",
        "  def __init__(this, id ):\n",
        "    this.registration_id = id\n",
        "  def get_registration_id(): # In this case, because we do not have a reference to the class, the get_registration function isn't included in the class\n",
        "    return 1\n",
        "\n",
        "santro = car('blah123')\n",
        "print(santro.get_registration_id()) # this should throw error as function wasn't attached to the class!"
      ],
      "metadata": {
        "colab": {
          "base_uri": "https://localhost:8080/",
          "height": 176
        },
        "id": "9c5GAstya5Rr",
        "outputId": "93044f69-47df-4c51-bd8f-600b22014589"
      },
      "execution_count": 63,
      "outputs": [
        {
          "output_type": "error",
          "ename": "TypeError",
          "evalue": "car.get_registration_id() takes 0 positional arguments but 1 was given",
          "traceback": [
            "\u001b[0;31m---------------------------------------------------------------------------\u001b[0m",
            "\u001b[0;31mTypeError\u001b[0m                                 Traceback (most recent call last)",
            "\u001b[0;32m<ipython-input-63-4a068bd40e20>\u001b[0m in \u001b[0;36m<cell line: 8>\u001b[0;34m()\u001b[0m\n\u001b[1;32m      6\u001b[0m \u001b[0;34m\u001b[0m\u001b[0m\n\u001b[1;32m      7\u001b[0m \u001b[0msantro\u001b[0m \u001b[0;34m=\u001b[0m \u001b[0mcar\u001b[0m\u001b[0;34m(\u001b[0m\u001b[0;34m'blah123'\u001b[0m\u001b[0;34m)\u001b[0m\u001b[0;34m\u001b[0m\u001b[0;34m\u001b[0m\u001b[0m\n\u001b[0;32m----> 8\u001b[0;31m \u001b[0mprint\u001b[0m\u001b[0;34m(\u001b[0m\u001b[0msantro\u001b[0m\u001b[0;34m.\u001b[0m\u001b[0mget_registration_id\u001b[0m\u001b[0;34m(\u001b[0m\u001b[0;34m)\u001b[0m\u001b[0;34m)\u001b[0m \u001b[0;31m# this should throw error as function wasn't attached to the class!\u001b[0m\u001b[0;34m\u001b[0m\u001b[0;34m\u001b[0m\u001b[0m\n\u001b[0m",
            "\u001b[0;31mTypeError\u001b[0m: car.get_registration_id() takes 0 positional arguments but 1 was given"
          ]
        }
      ]
    },
    {
      "cell_type": "code",
      "source": [
        "#fixed\n",
        "class car:\n",
        "  def __init__(this, id ):\n",
        "    this.registration_id = id\n",
        "  def get_registration_id(this):\n",
        "    return this.registration_id\n",
        "    # or return 1\n",
        "\n",
        "santro = car('blah123')\n",
        "print(santro.get_registration_id())"
      ],
      "metadata": {
        "colab": {
          "base_uri": "https://localhost:8080/"
        },
        "id": "9M_U-YVYbR8e",
        "outputId": "287da93d-5e04-438e-e840-dba9c7d94306"
      },
      "execution_count": 64,
      "outputs": [
        {
          "output_type": "stream",
          "name": "stdout",
          "text": [
            "blah123\n"
          ]
        }
      ]
    },
    {
      "cell_type": "code",
      "source": [
        "#absolutely any variable name!\n",
        "class car:\n",
        "  def __init__(self, id ):\n",
        "    self.registration_id = id\n",
        "  def get_registration_id(this):\n",
        "    return this.registration_id\n",
        "    # or return 1\n",
        "\n",
        "santro = car('blah123')\n",
        "print(santro.get_registration_id())"
      ],
      "metadata": {
        "colab": {
          "base_uri": "https://localhost:8080/"
        },
        "id": "ciJyDeJhb9n8",
        "outputId": "7b5e884a-1b45-4643-ae66-2bb9ae3bf928"
      },
      "execution_count": 65,
      "outputs": [
        {
          "output_type": "stream",
          "name": "stdout",
          "text": [
            "blah123\n"
          ]
        }
      ]
    },
    {
      "cell_type": "code",
      "source": [
        "# range creates a list of numbers till the limit you provide\n",
        "# range(10) -> [ 0 to 9]\n",
        "# range (1, 5) -> [1 , 2, 3, 4]\n",
        "# range (1, 10, 2) -> [1, 3, 5, 7, 9]\n",
        "\n",
        "# range is (from, to, steps) -> from is included, to is excluded, steps can be + or -\n",
        "print()\n",
        "for i in range(10):\n",
        "  print(i, end = \" \")\n",
        "print()\n",
        "for i in range(1,5):\n",
        "  print(i, end = \" \")\n",
        "print()\n",
        "for i in range(1,10,2):\n",
        "  print(i, end = \" \")\n",
        "\n",
        "print()\n",
        "for i in range(20,10,-2):\n",
        "  print(i, end = \" \")"
      ],
      "metadata": {
        "colab": {
          "base_uri": "https://localhost:8080/"
        },
        "id": "0KBDajHkf1si",
        "outputId": "eeb8e932-c301-491f-b6ad-18b8d2b281e4"
      },
      "execution_count": 75,
      "outputs": [
        {
          "output_type": "stream",
          "name": "stdout",
          "text": [
            "\n",
            "0 1 2 3 4 5 6 7 8 9 \n",
            "1 2 3 4 \n",
            "1 3 5 7 9 \n",
            "20 18 16 14 12 "
          ]
        }
      ]
    },
    {
      "cell_type": "code",
      "source": [
        "# iterator along with generation capabilities ->\n",
        "\n",
        "# simple arithmetic series -> WHOLE NUMBERS\n",
        "\n",
        "class AP:\n",
        "  def __iter__(self): # Start State\n",
        "    self.first = -1\n",
        "    return self\n",
        "  def __next__(self): # progression or propagation or transformation\n",
        "    self.first += 1\n",
        "    return self.first\n",
        "\n",
        "myseries = AP()\n",
        "indexer = iter(myseries)\n",
        "\n",
        "# range creates a list of numbers till the limit you provide\n",
        "# range(10) -> [ 0 to 9]\n",
        "# range (1, 5) -> [1 , 2, 3, 4]\n",
        "# range (1, 10, 2) -> [1, 3, 5, 7, 9]\n",
        "for i in range(100):\n",
        "  print(next(indexer), end = \" \")"
      ],
      "metadata": {
        "colab": {
          "base_uri": "https://localhost:8080/"
        },
        "id": "D3mGbbjPcMN8",
        "outputId": "c5d9c5ad-348d-4000-ab01-e55347405807"
      },
      "execution_count": 67,
      "outputs": [
        {
          "output_type": "stream",
          "name": "stdout",
          "text": [
            "0 1 2 3 4 5 6 7 8 9 10 11 12 13 14 15 16 17 18 19 20 21 22 23 24 25 26 27 28 29 30 31 32 33 34 35 36 37 38 39 40 41 42 43 44 45 46 47 48 49 50 51 52 53 54 55 56 57 58 59 60 61 62 63 64 65 66 67 68 69 70 71 72 73 74 75 76 77 78 79 80 81 82 83 84 85 86 87 88 89 90 91 92 93 94 95 96 97 98 99 "
          ]
        }
      ]
    },
    {
      "cell_type": "code",
      "source": [
        "mylist = [1,2]\n",
        "print(dir(mylist)) # opens anything as a folder and shows underlying functions and objects"
      ],
      "metadata": {
        "colab": {
          "base_uri": "https://localhost:8080/"
        },
        "id": "0m4JyVyIdqqZ",
        "outputId": "2f230d4c-be01-435c-fd7c-be5e6a12d194"
      },
      "execution_count": 69,
      "outputs": [
        {
          "output_type": "stream",
          "name": "stdout",
          "text": [
            "['__add__', '__class__', '__class_getitem__', '__contains__', '__delattr__', '__delitem__', '__dir__', '__doc__', '__eq__', '__format__', '__ge__', '__getattribute__', '__getitem__', '__gt__', '__hash__', '__iadd__', '__imul__', '__init__', '__init_subclass__', '__iter__', '__le__', '__len__', '__lt__', '__mul__', '__ne__', '__new__', '__reduce__', '__reduce_ex__', '__repr__', '__reversed__', '__rmul__', '__setattr__', '__setitem__', '__sizeof__', '__str__', '__subclasshook__', 'append', 'clear', 'copy', 'count', 'extend', 'index', 'insert', 'pop', 'remove', 'reverse', 'sort']\n"
          ]
        }
      ]
    },
    {
      "cell_type": "code",
      "source": [
        "# fibonacci\n",
        "\n",
        "class fibonacci:\n",
        "  def __iter__(this):\n",
        "    this.first = -1\n",
        "    this.second = 1\n",
        "    return this\n",
        "  def __next__(this):\n",
        "    this.current = this.first + this.second\n",
        "    this.first = this.second\n",
        "    this.second = this.current\n",
        "    return this.current\n",
        "  def get_current(this):\n",
        "    return this.current\n",
        "\n",
        "myseries = fibonacci()\n",
        "indexer = iter(myseries) # iter -> initializes an iterator on our class' object\n",
        "\n",
        "for i in range(25):\n",
        "  print(next(indexer), end = \" \") # next -> invokes and updates __next__ in our class\n"
      ],
      "metadata": {
        "colab": {
          "base_uri": "https://localhost:8080/"
        },
        "id": "Ea4Tr7lleGEX",
        "outputId": "f17063a3-1a6d-42f1-9399-27decb06ce34"
      },
      "execution_count": 79,
      "outputs": [
        {
          "output_type": "stream",
          "name": "stdout",
          "text": [
            "0 1 1 2 3 5 8 13 21 34 55 89 144 233 377 610 987 1597 2584 4181 6765 10946 17711 28657 46368 "
          ]
        }
      ]
    },
    {
      "cell_type": "code",
      "source": [
        "myseries.get_current()"
      ],
      "metadata": {
        "colab": {
          "base_uri": "https://localhost:8080/"
        },
        "id": "yn91-PTCfWdK",
        "outputId": "acb61ac2-c9ea-4935-f3b8-c5c4146c98ca"
      },
      "execution_count": 80,
      "outputs": [
        {
          "output_type": "execute_result",
          "data": {
            "text/plain": [
              "46368"
            ]
          },
          "metadata": {},
          "execution_count": 80
        }
      ]
    },
    {
      "cell_type": "code",
      "source": [
        "# TODO: Create a class which accepts N from the user, and prints the arithmetic progression till N\n",
        "# along with the sum of all numbers\n",
        "\n",
        "# N = 5\n",
        "# Output:\n",
        "# 1 2 3 4 5\n",
        "# 15\n",
        "\n"
      ],
      "metadata": {
        "id": "NOXfbVpZikWR"
      },
      "execution_count": null,
      "outputs": []
    }
  ]
}