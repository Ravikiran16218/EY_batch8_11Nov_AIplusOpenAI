{
  "cells": [
    {
      "cell_type": "markdown",
      "metadata": {
        "id": "view-in-github",
        "colab_type": "text"
      },
      "source": [
        "<a href=\"https://colab.research.google.com/github/a-forty-two/EY_batch8_11Nov_AIplusOpenAI/blob/main/11Nov_006_EDA_Visuals.ipynb\" target=\"_parent\"><img src=\"https://colab.research.google.com/assets/colab-badge.svg\" alt=\"Open In Colab\"/></a>"
      ]
    },
    {
      "cell_type": "markdown",
      "metadata": {
        "id": "tjqQ4yEia4nw"
      },
      "source": [
        "# Python for Data Science & Analysis\n",
        "Exploratory Data Analysis & Visualization"
      ]
    },
    {
      "cell_type": "markdown",
      "metadata": {
        "id": "jjxms958aXXw"
      },
      "source": [
        "# What is EDA?"
      ]
    },
    {
      "cell_type": "markdown",
      "metadata": {
        "id": "1_YcrBxlaXXw"
      },
      "source": [
        "## What is Exploratory Data Analysis?"
      ]
    },
    {
      "cell_type": "markdown",
      "metadata": {
        "id": "M_cEraI5aXXx"
      },
      "source": [
        "* goal:\n",
        "    * investigate\n",
        "    * explain\n",
        "    * describe\n",
        "    * understand"
      ]
    },
    {
      "cell_type": "markdown",
      "metadata": {
        "id": "EOy0SRVkaXXx"
      },
      "source": [
        "* questions?\n",
        "    * is there enough data?\n",
        "    * is the data correct?\n",
        "    * what is the distribution of each column?\n",
        "    * how do the columns correlate?"
      ]
    },
    {
      "cell_type": "markdown",
      "metadata": {
        "id": "GyKakVCqaXXy"
      },
      "source": [
        "* method\n",
        "    * visual\n",
        "    * primarily descriptive"
      ]
    },
    {
      "cell_type": "markdown",
      "metadata": {
        "id": "dZhrXwtoaXXy"
      },
      "source": [
        "## What are the tools for EDA in Python?"
      ]
    },
    {
      "cell_type": "markdown",
      "metadata": {
        "id": "qUnKHCmuaXXy"
      },
      "source": [
        "Simple pair: Pandas for data exploration, seaborn for visualization.\n",
        "\n",
        "\n",
        "...but lots of options."
      ]
    },
    {
      "cell_type": "markdown",
      "metadata": {
        "id": "ktmGXel2aXXz"
      },
      "source": [
        "## What are the challenges around EDA?"
      ]
    },
    {
      "cell_type": "markdown",
      "metadata": {
        "id": "HYnGjSdtaXXz"
      },
      "source": [
        "### Challenges of EDA:\n",
        "\n",
        "* Strategic\n",
        "* Organizational\n",
        "* Technical"
      ]
    },
    {
      "cell_type": "markdown",
      "metadata": {
        "id": "ZG7aAK_9a4nz"
      },
      "source": [
        "## Objectives\n",
        "* write a program which uses seaborn to:\n",
        "    * show univariate plots (eg., distplot)\n",
        "    * show multivariate plots (eg., scatterplot)\n",
        "    * EXTRA: customize plots"
      ]
    },
    {
      "cell_type": "markdown",
      "metadata": {
        "id": "Rf9aAP1Ka4n0"
      },
      "source": [
        "# Part 3: Visualization"
      ]
    },
    {
      "cell_type": "markdown",
      "metadata": {
        "id": "cvwTX3E_a4n1"
      },
      "source": [
        "## How do I use pandas to plot?"
      ]
    },
    {
      "cell_type": "markdown",
      "metadata": {
        "id": "jnO-Te_da4n1"
      },
      "source": [
        "Pandas has a `.plot` which you configure using its arguments (eg., `kind=hist`), this however *just uses* seaborn."
      ]
    },
    {
      "cell_type": "code",
      "execution_count": null,
      "metadata": {
        "scrolled": true,
        "id": "HWFBaU_-a4n2"
      },
      "outputs": [],
      "source": [
        "import pandas as pd\n",
        "ti = pd.read_csv('https://raw.githubusercontent.com/a-forty-two/EY_batch8_11Nov_AIplusOpenAI/refs/heads/main/titanic.csv')\n",
        "ti.head(3)\n"
      ]
    },
    {
      "cell_type": "code",
      "source": [
        "ti.tail()\n",
        "ti.tail(5)"
      ],
      "metadata": {
        "id": "c94OoA-AfvKN"
      },
      "execution_count": null,
      "outputs": []
    },
    {
      "cell_type": "markdown",
      "source": [],
      "metadata": {
        "id": "-orraZrSfuqP"
      }
    },
    {
      "cell_type": "code",
      "source": [
        "ti.describe().T"
      ],
      "metadata": {
        "id": "KqJBJYqqf1pW"
      },
      "execution_count": null,
      "outputs": []
    },
    {
      "cell_type": "code",
      "source": [
        "ti.info()"
      ],
      "metadata": {
        "id": "BU8e1iHFgEqA"
      },
      "execution_count": null,
      "outputs": []
    },
    {
      "cell_type": "code",
      "source": [
        "import matplotlib.pyplot as plt\n",
        "%matplotlib inline"
      ],
      "metadata": {
        "id": "8ZnitgZtgKNY"
      },
      "execution_count": null,
      "outputs": []
    },
    {
      "cell_type": "markdown",
      "source": [
        "#Create a pie chart presenting the male/female proportion"
      ],
      "metadata": {
        "id": "p5ODg-p1hlSf"
      }
    },
    {
      "cell_type": "code",
      "source": [
        "# sum the instances of males and females\n",
        "males = (ti['sex'] == 'male').sum()\n",
        "females = (ti['sex'] == 'female').sum()\n",
        "\n",
        "# put them into a list called proportions\n",
        "proportions = [males, females]\n",
        "\n",
        "# Create a pie chart\n",
        "plt.pie(\n",
        "    # using proportions\n",
        "    proportions,\n",
        "\n",
        "    # with the labels being officer names\n",
        "    labels = ['Males', 'Females'],\n",
        "\n",
        "    # with no shadows\n",
        "    shadow = False,\n",
        "\n",
        "    # with colors\n",
        "    colors = ['blue','red'],\n",
        "\n",
        "    # with one slide exploded out\n",
        "    explode = (0.15 , 0),\n",
        "\n",
        "    # with the start angle at 90%\n",
        "    startangle = 90,\n",
        "\n",
        "    # with the percent listed as a fraction\n",
        "    autopct = '%1.1f%%'\n",
        "    )\n",
        "\n",
        "# View the plot drop above\n",
        "plt.axis('equal')\n",
        "\n",
        "# Set labels\n",
        "plt.title(\"Sex Proportion\")\n",
        "\n",
        "# View the plot\n",
        "plt.tight_layout()\n",
        "plt.show()"
      ],
      "metadata": {
        "id": "jpRO_J68hsCs"
      },
      "execution_count": null,
      "outputs": []
    },
    {
      "cell_type": "code",
      "execution_count": null,
      "metadata": {
        "id": "7cr5v8r6a4n5"
      },
      "outputs": [],
      "source": [
        "ti['age'].plot(kind='hist');\n"
      ]
    },
    {
      "cell_type": "markdown",
      "metadata": {
        "id": "Ep_Tbahja4n6"
      },
      "source": [
        "Often pandas doesn't choose the right plot, or the right dataseries... therefore it's often easier to go straight to using seaborn."
      ]
    },
    {
      "cell_type": "markdown",
      "metadata": {
        "id": "FcOP0m9Aa4n7"
      },
      "source": [
        "## How do I use seaborn to visualize data?"
      ]
    },
    {
      "cell_type": "code",
      "execution_count": null,
      "metadata": {
        "id": "K7YlJH0va4n7"
      },
      "outputs": [],
      "source": [
        "import seaborn as sns\n"
      ]
    },
    {
      "cell_type": "markdown",
      "metadata": {
        "id": "mRh0losAa4n8"
      },
      "source": [
        "### Checks for emptiness and cleanse data"
      ]
    },
    {
      "cell_type": "code",
      "execution_count": null,
      "metadata": {
        "id": "4rDphsOTa4n8"
      },
      "outputs": [],
      "source": [
        "ti.isna().sum() #check for emptiness"
      ]
    },
    {
      "cell_type": "code",
      "execution_count": null,
      "metadata": {
        "id": "L-bhdUQsa4n8"
      },
      "outputs": [],
      "source": [
        "#replace NaNs in numerical fields with the mean values\n",
        "import numpy as np\n",
        "# Select only numeric columns for mean calculation\n",
        "numeric_cols = ti.select_dtypes(include=np.number).columns\n",
        "\n",
        "# Calculate the mean for numeric columns only\n",
        "ti[numeric_cols] = ti[numeric_cols].fillna(ti[numeric_cols].mean())"
      ]
    },
    {
      "cell_type": "code",
      "execution_count": null,
      "metadata": {
        "id": "WY5oln99a4n9"
      },
      "outputs": [],
      "source": [
        "# fill every column with its own most frequent value\n",
        "ti = ti.apply(lambda x:x.fillna(x.value_counts().index[0]))"
      ]
    },
    {
      "cell_type": "markdown",
      "metadata": {
        "id": "NyrQF5cea4n9"
      },
      "source": [
        "There are two ways of using seaborn, you can either\n",
        "\n",
        "* supply x (, y, etc.) as individual arguments\n",
        "* OR: supply a *dataframe* and name the relevant columns"
      ]
    },
    {
      "cell_type": "code",
      "execution_count": null,
      "metadata": {
        "id": "_BaSuBnka4n9"
      },
      "outputs": [],
      "source": [
        "sns.distplot(ti['age'], kde=False);\n"
      ]
    },
    {
      "cell_type": "markdown",
      "metadata": {
        "id": "1rP64lora4n-"
      },
      "source": [
        "##### What is the kde?\n",
        "\n",
        "* approximation of the distribution using a linear combination of normal distributions\n",
        "\n",
        "* further reading: https://seaborn.pydata.org/tutorial/distributions.html#kernel-density-estimation"
      ]
    },
    {
      "cell_type": "code",
      "execution_count": null,
      "metadata": {
        "id": "MiTkMT2Ta4n-"
      },
      "outputs": [],
      "source": [
        "sns.lineplot(x='age', y='fare', data=ti)"
      ]
    },
    {
      "cell_type": "markdown",
      "metadata": {
        "id": "FdFV-pHHa4n-"
      },
      "source": [
        "## How do I use a dataframe with seaborn?"
      ]
    },
    {
      "cell_type": "markdown",
      "metadata": {
        "id": "Ez2zl-E8a4n-"
      },
      "source": [
        "We set `data` to be the dataframe, and *name the columns* for `x` and `y`..."
      ]
    },
    {
      "cell_type": "code",
      "execution_count": null,
      "metadata": {
        "id": "GiqI36DLa4n_"
      },
      "outputs": [],
      "source": [
        "sns.scatterplot(data=ti, x='age', y='fare')\n"
      ]
    },
    {
      "cell_type": "markdown",
      "metadata": {
        "id": "-5o9zuOOa4n_"
      },
      "source": [
        "## How do I create a distribution plot?"
      ]
    },
    {
      "cell_type": "code",
      "execution_count": null,
      "metadata": {
        "id": "cjOWI5AVa4n_"
      },
      "outputs": [],
      "source": [
        "sns.distplot(ti['survived'], vertical=True, kde=False)\n"
      ]
    },
    {
      "cell_type": "markdown",
      "metadata": {
        "id": "l5wAfNG6a4oA"
      },
      "source": [
        "## How do I create a violin plot?"
      ]
    },
    {
      "cell_type": "markdown",
      "metadata": {
        "id": "MsXGbv2za4oA"
      },
      "source": [
        "The width of a violin plot is the frequency (ie., how common) a value is within some column..."
      ]
    },
    {
      "cell_type": "code",
      "execution_count": null,
      "metadata": {
        "id": "pUFj6RWba4oB"
      },
      "outputs": [],
      "source": [
        "sns.violinplot(ti['age'])\n"
      ]
    },
    {
      "cell_type": "markdown",
      "metadata": {
        "id": "XkrR-Wssa4oB"
      },
      "source": [
        "## How do I create a box plot?"
      ]
    },
    {
      "cell_type": "markdown",
      "metadata": {
        "id": "Rp3fFuLSa4oB"
      },
      "source": [
        "Box plots show quarties (25th, 50th, 75th) and outliers."
      ]
    },
    {
      "cell_type": "code",
      "execution_count": null,
      "metadata": {
        "id": "0sGQy6Yka4oB"
      },
      "outputs": [],
      "source": [
        "sns.boxplot(ti['age'])\n"
      ]
    },
    {
      "cell_type": "markdown",
      "metadata": {
        "id": "LmMEi9Cka4oB"
      },
      "source": [
        "## How do I create a violin plot for multiple columns?"
      ]
    },
    {
      "cell_type": "markdown",
      "metadata": {
        "id": "BPfrAVf9a4oC"
      },
      "source": [
        "A violin plot can show multiple distributions, each a subset of a single column, factored (or grouped) by another."
      ]
    },
    {
      "cell_type": "code",
      "execution_count": null,
      "metadata": {
        "id": "l7jRSv8Na4oC"
      },
      "outputs": [],
      "source": [
        "sns.violinplot(data=ti, x='survived', y='age')\n"
      ]
    },
    {
      "cell_type": "code",
      "execution_count": null,
      "metadata": {
        "id": "KlPqhmIHa4oC"
      },
      "outputs": [],
      "source": [
        "sns.violinplot(data=ti, x=\"age\", y='embark_town')"
      ]
    },
    {
      "cell_type": "markdown",
      "metadata": {
        "id": "SXrB60TMa4oD"
      },
      "source": [
        "## How do I create a bar plor for multiple columns?"
      ]
    },
    {
      "cell_type": "markdown",
      "metadata": {
        "id": "u-2DZeZFa4oD"
      },
      "source": [
        "Bar plots are useful for discrete data or for showing, here, the means:"
      ]
    },
    {
      "cell_type": "code",
      "execution_count": null,
      "metadata": {
        "id": "wD1TgojBa4oD"
      },
      "outputs": [],
      "source": [
        "sns.barplot(data=ti, x='survived', y='age');\n"
      ]
    },
    {
      "cell_type": "markdown",
      "metadata": {
        "id": "mpNfz_gOa4oD"
      },
      "source": [
        "## How do I create a line plot?"
      ]
    },
    {
      "cell_type": "code",
      "execution_count": null,
      "metadata": {
        "id": "TODgi4oZa4oD"
      },
      "outputs": [],
      "source": [
        "sns.lineplot(data=ti, x='fare', y='age');\n"
      ]
    },
    {
      "cell_type": "markdown",
      "metadata": {
        "id": "zojWEibaa4oE"
      },
      "source": [
        "###### NB: would creating a scatter plot be more appropriate?"
      ]
    },
    {
      "cell_type": "markdown",
      "metadata": {
        "id": "JENyYDIBa4oE"
      },
      "source": [
        "## How do I create a scatter plot?"
      ]
    },
    {
      "cell_type": "code",
      "execution_count": null,
      "metadata": {
        "id": "J9AFeAk2a4oE"
      },
      "outputs": [],
      "source": [
        "sns.scatterplot(data=ti, x='fare', y='age');\n"
      ]
    },
    {
      "cell_type": "code",
      "execution_count": null,
      "metadata": {
        "id": "rKdUBQrJa4oF"
      },
      "outputs": [],
      "source": [
        "sns.scatterplot(data=ti, x='fare', y='age',\n",
        "                hue = 'sex',\n",
        "                size = 'pclass');"
      ]
    },
    {
      "cell_type": "markdown",
      "metadata": {
        "id": "4SDKxl4Oa4oF"
      },
      "source": [
        "### EXTRA: Tips\n",
        "* Often for the sake of communication, using excel is both faster and leads to better visuals\n",
        "* use `df.to_csv()` to save the data behind a visual\n",
        "* use excel to heavily customize the layout (and then, eg., copy powerpoint)"
      ]
    },
    {
      "cell_type": "code",
      "source": [],
      "metadata": {
        "id": "2lvFR5zscdtb"
      },
      "execution_count": null,
      "outputs": []
    },
    {
      "cell_type": "markdown",
      "metadata": {
        "id": "F-xs6U7TbP5w"
      },
      "source": [
        "# Python for Data Science & Analysis\n",
        "## Plotly"
      ]
    },
    {
      "cell_type": "markdown",
      "metadata": {
        "id": "gvma7akqbP5y"
      },
      "source": [
        "## How do you install plotly?"
      ]
    },
    {
      "cell_type": "markdown",
      "metadata": {
        "id": "Sv1MIXdKbP5z"
      },
      "source": [
        "You can install plotly with `pip` (python package installer)."
      ]
    },
    {
      "cell_type": "code",
      "execution_count": null,
      "metadata": {
        "id": "hCHzoxOabP5z"
      },
      "outputs": [],
      "source": [
        "!pip install plotly\n"
      ]
    },
    {
      "cell_type": "markdown",
      "metadata": {
        "id": "ZMckRnvmbP51"
      },
      "source": [
        "## How do I import plotly?"
      ]
    },
    {
      "cell_type": "code",
      "execution_count": null,
      "metadata": {
        "id": "uNpB1DQ2bP51"
      },
      "outputs": [],
      "source": [
        "import plotly.express as px\n"
      ]
    },
    {
      "cell_type": "markdown",
      "metadata": {
        "id": "tmLMBSlPbP52"
      },
      "source": [
        "## Plotly"
      ]
    },
    {
      "cell_type": "code",
      "execution_count": null,
      "metadata": {
        "id": "5ziNHzxhbP52"
      },
      "outputs": [],
      "source": [
        "import pandas as pd\n",
        "\n",
        "ti = pd.read_csv(\"https://raw.githubusercontent.com/a-forty-two/EY_batch8_11Nov_AIplusOpenAI/refs/heads/main/titanic.csv\")"
      ]
    },
    {
      "cell_type": "code",
      "execution_count": null,
      "metadata": {
        "id": "aG_AOO9mbP53"
      },
      "outputs": [],
      "source": [
        "px.histogram(ti, x='age')"
      ]
    },
    {
      "cell_type": "code",
      "execution_count": null,
      "metadata": {
        "id": "Cg0BvlbpbP53"
      },
      "outputs": [],
      "source": [
        "px.scatter(ti, x='age', y='survived', color='class', size='fare')"
      ]
    },
    {
      "cell_type": "markdown",
      "metadata": {
        "id": "qxOUg7f0a4oF"
      },
      "source": [
        "## Exercise (30 min)- optional\n",
        "\n",
        "## Step 1 (5 min)\n",
        "* review seaborn individual, try a few plots"
      ]
    },
    {
      "cell_type": "markdown",
      "metadata": {
        "id": "qClgelAca4oF"
      },
      "source": [
        "## Step 2 (25 min)\n",
        "\n",
        "* What affected your chances of survival on the titanic?\n",
        "    * brainstorm & execute an analysis of the titanic dataset\n",
        "* Consider:\n",
        "    * old vs. young\n",
        "    * women vs. men\n",
        "    * women & children vs. men\n",
        "    * cheaper vs. expensive tickets\n",
        "    * deck\n",
        "    * class\n",
        "    * ...location...\n",
        "* Use seaborn plots (and pandas) to obtain helpful visuals which answer the investigatory question."
      ]
    },
    {
      "cell_type": "markdown",
      "metadata": {
        "id": "aECQzcWZa4oG"
      },
      "source": [
        "### Consider:\n",
        "* Univariate (single-col) plots\n",
        "    * sns.distplot\n",
        "        * of survived\n",
        "    * sns.violinplot\n",
        "        * of fare\n",
        "    * sns.boxplot\n",
        "        * of age"
      ]
    },
    {
      "cell_type": "markdown",
      "metadata": {
        "id": "4xVsSQSZa4oG"
      },
      "source": [
        "* Multivariate (here: 2-col) plots\n",
        "    * sns.violinplot\n",
        "        * age by survived\n",
        "        * fare by survived\n",
        "    * sns.lineplot\n",
        "        * fare vs. age\n",
        "    * sns.scatterplot\n",
        "        * age vs. fare"
      ]
    },
    {
      "cell_type": "markdown",
      "metadata": {
        "id": "t1z54gMya4oG"
      },
      "source": [
        "ti[[\"age\",\"sex\"]].groupby(ti.age>18).sum()"
      ]
    },
    {
      "cell_type": "code",
      "execution_count": null,
      "metadata": {
        "id": "TYsxDhq9a4oG"
      },
      "outputs": [],
      "source": []
    }
  ],
  "metadata": {
    "celltoolbar": "Slideshow",
    "kernelspec": {
      "display_name": "Python 3",
      "language": "python",
      "name": "python3"
    },
    "language_info": {
      "codemirror_mode": {
        "name": "ipython",
        "version": 3
      },
      "file_extension": ".py",
      "mimetype": "text/x-python",
      "name": "python",
      "nbconvert_exporter": "python",
      "pygments_lexer": "ipython3",
      "version": "3.7.4"
    },
    "colab": {
      "provenance": [],
      "include_colab_link": true
    }
  },
  "nbformat": 4,
  "nbformat_minor": 0
}