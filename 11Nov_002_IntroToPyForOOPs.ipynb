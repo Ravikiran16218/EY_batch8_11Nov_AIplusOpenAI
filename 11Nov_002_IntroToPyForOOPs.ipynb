{
  "nbformat": 4,
  "nbformat_minor": 0,
  "metadata": {
    "colab": {
      "provenance": [],
      "authorship_tag": "ABX9TyPQd3D9QyNXhc7icOnVetZu",
      "include_colab_link": true
    },
    "kernelspec": {
      "name": "python3",
      "display_name": "Python 3"
    },
    "language_info": {
      "name": "python"
    }
  },
  "cells": [
    {
      "cell_type": "markdown",
      "metadata": {
        "id": "view-in-github",
        "colab_type": "text"
      },
      "source": [
        "<a href=\"https://colab.research.google.com/github/a-forty-two/EY_batch8_11Nov_AIplusOpenAI/blob/main/11Nov_002_IntroToPyForOOPs.ipynb\" target=\"_parent\"><img src=\"https://colab.research.google.com/assets/colab-badge.svg\" alt=\"Open In Colab\"/></a>"
      ]
    },
    {
      "cell_type": "code",
      "source": [
        "# Loops -> Comprehensions -> act on every item of the data structure\n",
        "\n",
        "# list comprehension\n",
        "mylist = [ 2, 3,4,5,6,7,8]\n",
        "# filter only even numbers on all elements\n",
        "mynewlist = [element for element in mylist if element % 2 == 0]\n",
        "\n",
        "# square all elements of my list\n",
        "mysquarelist = [ x*x for x in mylist]\n",
        "\n",
        "# Syntax: what_to_return_for_each_element for element in list condition\n",
        "\n",
        "print(mynewlist)\n",
        "print(mysquarelist)\n",
        "\n"
      ],
      "metadata": {
        "colab": {
          "base_uri": "https://localhost:8080/"
        },
        "id": "LgdVgnZqw3Mv",
        "outputId": "eb80fe87-9730-46d4-a3e4-402411ad00f0"
      },
      "execution_count": 32,
      "outputs": [
        {
          "output_type": "stream",
          "name": "stdout",
          "text": [
            "[2, 4, 6, 8]\n",
            "[4, 9, 16, 25, 36, 49, 64]\n"
          ]
        }
      ]
    },
    {
      "cell_type": "code",
      "source": [
        "# dynamic variable behavior\n",
        "a = 1\n",
        "print(type(a))\n",
        "a = 'bye'\n",
        "print(type(a))\n",
        "a = [1,2,3]\n",
        "print(type(a))\n",
        "a = (1,2,3)\n",
        "print(type(a))"
      ],
      "metadata": {
        "colab": {
          "base_uri": "https://localhost:8080/"
        },
        "id": "i5Sigi4v8nUL",
        "outputId": "abd2243d-fb7b-403e-cc75-0aa058a7fcd2"
      },
      "execution_count": 37,
      "outputs": [
        {
          "output_type": "stream",
          "name": "stdout",
          "text": [
            "<class 'int'>\n",
            "<class 'str'>\n",
            "<class 'list'>\n",
            "<class 'tuple'>\n"
          ]
        }
      ]
    },
    {
      "cell_type": "code",
      "source": [
        "# return a tuple:\n",
        "\n",
        "mysquaretyple = tuple([ x*x for x in mylist])\n",
        "print(mysquaretyple)"
      ],
      "metadata": {
        "colab": {
          "base_uri": "https://localhost:8080/"
        },
        "id": "tPHmx0NhxDv3",
        "outputId": "99d0b7ec-8541-4b2c-bcc3-969a3a0afc85"
      },
      "execution_count": 33,
      "outputs": [
        {
          "output_type": "stream",
          "name": "stdout",
          "text": [
            "(4, 9, 16, 25, 36, 49, 64)\n"
          ]
        }
      ]
    },
    {
      "cell_type": "code",
      "source": [],
      "metadata": {
        "colab": {
          "base_uri": "https://localhost:8080/",
          "height": 180
        },
        "id": "-DFtfJK06J86",
        "outputId": "c01e71eb-42a8-4a39-d763-e286035f87a2"
      },
      "execution_count": 35,
      "outputs": [
        {
          "output_type": "error",
          "ename": "TypeError",
          "evalue": "unhashable type: 'list'",
          "traceback": [
            "\u001b[0;31m---------------------------------------------------------------------------\u001b[0m",
            "\u001b[0;31mTypeError\u001b[0m                                 Traceback (most recent call last)",
            "\u001b[0;32m<ipython-input-35-404073629715>\u001b[0m in \u001b[0;36m<cell line: 6>\u001b[0;34m()\u001b[0m\n\u001b[1;32m      4\u001b[0m \u001b[0mmylist\u001b[0m \u001b[0;34m=\u001b[0m \u001b[0;34m[\u001b[0m\u001b[0mmy_random_set\u001b[0m\u001b[0;34m,\u001b[0m \u001b[0mmy_random_set\u001b[0m \u001b[0;34m]\u001b[0m\u001b[0;34m\u001b[0m\u001b[0;34m\u001b[0m\u001b[0m\n\u001b[1;32m      5\u001b[0m \u001b[0mmytuple\u001b[0m \u001b[0;34m=\u001b[0m \u001b[0;34m(\u001b[0m\u001b[0mmylist\u001b[0m\u001b[0;34m,\u001b[0m \u001b[0mmylist\u001b[0m\u001b[0;34m)\u001b[0m\u001b[0;34m\u001b[0m\u001b[0;34m\u001b[0m\u001b[0m\n\u001b[0;32m----> 6\u001b[0;31m \u001b[0mmynewset\u001b[0m \u001b[0;34m=\u001b[0m \u001b[0;34m{\u001b[0m\u001b[0mmytuple\u001b[0m\u001b[0;34m,\u001b[0m \u001b[0mmylist\u001b[0m\u001b[0;34m,\u001b[0m \u001b[0mmy_random_set\u001b[0m\u001b[0;34m}\u001b[0m\u001b[0;34m\u001b[0m\u001b[0;34m\u001b[0m\u001b[0m\n\u001b[0m",
            "\u001b[0;31mTypeError\u001b[0m: unhashable type: 'list'"
          ]
        }
      ]
    },
    {
      "cell_type": "code",
      "source": [
        "# dictionary comprehension\n",
        "# reversal of elements for example:\n",
        "\n",
        "dct = { 'a':1, 'b':2, 'c': 3}\n",
        "\n",
        "# keys into values, and values into keys; values should now be square of their original value\n",
        "\n",
        "newdct = {val*val:key for key, val in dct.items()}\n",
        "\n",
        "print(newdct)\n"
      ],
      "metadata": {
        "colab": {
          "base_uri": "https://localhost:8080/"
        },
        "id": "edG-qekg6evo",
        "outputId": "e3525432-5b0f-4f1b-863c-1a8d9daa7345"
      },
      "execution_count": 38,
      "outputs": [
        {
          "output_type": "stream",
          "name": "stdout",
          "text": [
            "{1: 'a', 4: 'b', 9: 'c'}\n"
          ]
        }
      ]
    },
    {
      "cell_type": "code",
      "source": [
        "dct = { 'Cat':1, 'Dog': 2}\n",
        "labels = ['Cat','Cat','Dog','Cat','Cat','Cat','Dog','Dog','Cat','Cat']\n",
        "\n",
        "new_labels = [ dct[img] for img in labels ]\n",
        "print(new_labels)"
      ],
      "metadata": {
        "colab": {
          "base_uri": "https://localhost:8080/"
        },
        "id": "ZAnMvkdQ9gEz",
        "outputId": "67465fa1-94a4-4291-e64c-363201f40134"
      },
      "execution_count": 39,
      "outputs": [
        {
          "output_type": "stream",
          "name": "stdout",
          "text": [
            "[1, 1, 2, 1, 1, 1, 2, 2, 1, 1]\n"
          ]
        }
      ]
    },
    {
      "cell_type": "code",
      "source": [
        "# functions and classes\n",
        "\n",
        "def sum(a,b):\n",
        "  return a + b\n",
        "\n",
        "print(sum(4,5))\n",
        "print(sum(\"hello\",\" world\"))"
      ],
      "metadata": {
        "colab": {
          "base_uri": "https://localhost:8080/"
        },
        "id": "BTV3WAVC-Fm_",
        "outputId": "d7872d1a-286b-4dae-f7c7-754620b58a95"
      },
      "execution_count": 43,
      "outputs": [
        {
          "output_type": "stream",
          "name": "stdout",
          "text": [
            "9\n",
            "hello world\n"
          ]
        }
      ]
    },
    {
      "cell_type": "code",
      "source": [
        "def sum(a,b=10):\n",
        "  return a + b\n",
        "\n",
        "print(sum(4))\n",
        "print(sum(4, 1))"
      ],
      "metadata": {
        "colab": {
          "base_uri": "https://localhost:8080/"
        },
        "id": "vN-aFEpD_eN5",
        "outputId": "d923a354-17a3-4c4f-a376-d348e7eb57fd"
      },
      "execution_count": 45,
      "outputs": [
        {
          "output_type": "stream",
          "name": "stdout",
          "text": [
            "14\n",
            "5\n"
          ]
        }
      ]
    },
    {
      "cell_type": "code",
      "source": [
        "# string + int should be error\n",
        "print(sum(\"bye\"))"
      ],
      "metadata": {
        "colab": {
          "base_uri": "https://localhost:8080/",
          "height": 287
        },
        "id": "pI0xoWKw_mJP",
        "outputId": "3b9f13ce-2064-4d0e-a6b3-ff374a2676fc"
      },
      "execution_count": 46,
      "outputs": [
        {
          "output_type": "error",
          "ename": "TypeError",
          "evalue": "can only concatenate str (not \"int\") to str",
          "traceback": [
            "\u001b[0;31m---------------------------------------------------------------------------\u001b[0m",
            "\u001b[0;31mTypeError\u001b[0m                                 Traceback (most recent call last)",
            "\u001b[0;32m<ipython-input-46-5b9f02fdd8f4>\u001b[0m in \u001b[0;36m<cell line: 2>\u001b[0;34m()\u001b[0m\n\u001b[1;32m      1\u001b[0m \u001b[0;31m# string + int should be error\u001b[0m\u001b[0;34m\u001b[0m\u001b[0;34m\u001b[0m\u001b[0m\n\u001b[0;32m----> 2\u001b[0;31m \u001b[0mprint\u001b[0m\u001b[0;34m(\u001b[0m\u001b[0msum\u001b[0m\u001b[0;34m(\u001b[0m\u001b[0;34m\"bye\"\u001b[0m\u001b[0;34m)\u001b[0m\u001b[0;34m)\u001b[0m\u001b[0;34m\u001b[0m\u001b[0;34m\u001b[0m\u001b[0m\n\u001b[0m",
            "\u001b[0;32m<ipython-input-45-dbf04c2578c3>\u001b[0m in \u001b[0;36msum\u001b[0;34m(a, b)\u001b[0m\n\u001b[1;32m      1\u001b[0m \u001b[0;32mdef\u001b[0m \u001b[0msum\u001b[0m\u001b[0;34m(\u001b[0m\u001b[0ma\u001b[0m\u001b[0;34m,\u001b[0m\u001b[0mb\u001b[0m\u001b[0;34m=\u001b[0m\u001b[0;36m10\u001b[0m\u001b[0;34m)\u001b[0m\u001b[0;34m:\u001b[0m\u001b[0;34m\u001b[0m\u001b[0;34m\u001b[0m\u001b[0m\n\u001b[0;32m----> 2\u001b[0;31m   \u001b[0;32mreturn\u001b[0m \u001b[0ma\u001b[0m \u001b[0;34m+\u001b[0m \u001b[0mb\u001b[0m\u001b[0;34m\u001b[0m\u001b[0;34m\u001b[0m\u001b[0m\n\u001b[0m\u001b[1;32m      3\u001b[0m \u001b[0;34m\u001b[0m\u001b[0m\n\u001b[1;32m      4\u001b[0m \u001b[0mprint\u001b[0m\u001b[0;34m(\u001b[0m\u001b[0msum\u001b[0m\u001b[0;34m(\u001b[0m\u001b[0;36m4\u001b[0m\u001b[0;34m)\u001b[0m\u001b[0;34m)\u001b[0m\u001b[0;34m\u001b[0m\u001b[0;34m\u001b[0m\u001b[0m\n\u001b[1;32m      5\u001b[0m \u001b[0mprint\u001b[0m\u001b[0;34m(\u001b[0m\u001b[0msum\u001b[0m\u001b[0;34m(\u001b[0m\u001b[0;36m4\u001b[0m\u001b[0;34m,\u001b[0m \u001b[0;36m1\u001b[0m\u001b[0;34m)\u001b[0m\u001b[0;34m)\u001b[0m\u001b[0;34m\u001b[0m\u001b[0;34m\u001b[0m\u001b[0m\n",
            "\u001b[0;31mTypeError\u001b[0m: can only concatenate str (not \"int\") to str"
          ]
        }
      ]
    },
    {
      "cell_type": "code",
      "source": [
        "def sum(a,b=10):\n",
        "  if(type(a) == type(b)):\n",
        "    return a + b\n",
        "  else:\n",
        "    return str(a) + str(b)\n",
        "\n",
        "print(sum(\"bye\"))\n",
        "print(sum(\"bye\", \" bye\"))\n",
        "print(sum(1, \" popye\"))\n",
        "print(sum([1,2,3], \" popye\"))"
      ],
      "metadata": {
        "colab": {
          "base_uri": "https://localhost:8080/"
        },
        "id": "QgG0av5m__pD",
        "outputId": "ab8987ba-4680-4af2-acf5-64aca155961f"
      },
      "execution_count": 49,
      "outputs": [
        {
          "output_type": "stream",
          "name": "stdout",
          "text": [
            "bye10\n",
            "bye bye\n",
            "1 popye\n",
            "[1, 2, 3] popye\n"
          ]
        }
      ]
    },
    {
      "cell_type": "markdown",
      "source": [
        "How do functions work?\n",
        "\n",
        "\n",
        "a = ds1\n",
        "\n",
        "b = ds2\n",
        "\n",
        "c = function(a,b)\n",
        "\n",
        "\n",
        "memory layout -> stack and heap\n",
        "\n",
        "Stack -> a [addrs_a], b [addrs_b], c [addrs_c]\n",
        "\n",
        "heap -> addrs_a -> [ds1], addrs_b -> [ds2], addrs_c -> function()\n",
        "\n",
        "\n",
        "Memory-> a=1, b=2, function(a,b), allocation to c\n",
        "\n",
        "there is a memory jump whenever there is a function call\n",
        "\n",
        "And jumps take time!\n",
        "\n",
        "example-> if we had to transform 1 million values, does it mean 2 million memory jumps????\n",
        "\n",
        "\n",
        "in case of Python lambdas, we allow ONLY 1 line execution whatever that 1 line is!!!\n",
        "\n",
        "there is no MEMORY JUMP but rather in-place execution!"
      ],
      "metadata": {
        "id": "CGUuH1uyBzNt"
      }
    },
    {
      "cell_type": "code",
      "source": [
        "# LAMBDA FUNCTIONS\n",
        "# by default no names, 1-line function\n",
        "\n",
        "# syntax : because they are anonymous, they need to be stored in a variable name!\n",
        "\n",
        "# lambda_name = lambda input : what_to_do_with_input\n",
        "\n",
        "squared = lambda val : val*val\n",
        "\n",
        "squared(4)"
      ],
      "metadata": {
        "colab": {
          "base_uri": "https://localhost:8080/"
        },
        "id": "ohI5QqqpAQqa",
        "outputId": "75cf1395-5224-4113-82d6-4e0d0d0bd919"
      },
      "execution_count": 50,
      "outputs": [
        {
          "output_type": "execute_result",
          "data": {
            "text/plain": [
              "16"
            ]
          },
          "metadata": {},
          "execution_count": 50
        }
      ]
    },
    {
      "cell_type": "code",
      "source": [
        "# COMBINING Functions' return with lambda can help you generate more functions!!\n",
        "# common logic propagated across multiple functions!\n",
        "\n",
        "\n",
        "def powering_function(y):\n",
        "  return lambda x : x ** y\n",
        "\n",
        "square = powering_function(2) # lambda x : x ** 2\n",
        "cube = powering_function(3)# lambda x : x ** 3\n",
        "penta = powering_function(5) # lambda x : x ** 5"
      ],
      "metadata": {
        "id": "cc4czegADb7a"
      },
      "execution_count": 51,
      "outputs": []
    },
    {
      "cell_type": "code",
      "source": [
        "print(powering_function(2))"
      ],
      "metadata": {
        "colab": {
          "base_uri": "https://localhost:8080/"
        },
        "id": "EK6cLD-QE47Q",
        "outputId": "32f57eaa-8ae7-4512-9a07-80428d7d8de9"
      },
      "execution_count": 58,
      "outputs": [
        {
          "output_type": "stream",
          "name": "stdout",
          "text": [
            "<function powering_function.<locals>.<lambda> at 0x7d492f412320>\n"
          ]
        }
      ]
    },
    {
      "cell_type": "code",
      "source": [
        "type(square), type(penta)"
      ],
      "metadata": {
        "colab": {
          "base_uri": "https://localhost:8080/"
        },
        "id": "xG0l3stXEeSX",
        "outputId": "07aeb22f-bb85-482d-c23b-0a9f6dc6ad0b"
      },
      "execution_count": 56,
      "outputs": [
        {
          "output_type": "execute_result",
          "data": {
            "text/plain": [
              "(function, function)"
            ]
          },
          "metadata": {},
          "execution_count": 56
        }
      ]
    },
    {
      "cell_type": "code",
      "source": [
        "print(square(10))\n",
        "print(cube(5))\n",
        "print(penta(2))"
      ],
      "metadata": {
        "colab": {
          "base_uri": "https://localhost:8080/"
        },
        "id": "AU1qdL6xEBCl",
        "outputId": "ecaf9502-cdee-438e-9049-b9d7385ca39b"
      },
      "execution_count": 54,
      "outputs": [
        {
          "output_type": "stream",
          "name": "stdout",
          "text": [
            "100\n",
            "125\n",
            "32\n"
          ]
        }
      ]
    },
    {
      "cell_type": "code",
      "source": [],
      "metadata": {
        "id": "vJy7rOElEDSw"
      },
      "execution_count": null,
      "outputs": []
    }
  ]
}